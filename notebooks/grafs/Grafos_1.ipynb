{
 "cells": [
  {
   "cell_type": "markdown",
   "metadata": {},
   "source": [
    "<div style=\"padding:30px; color: white; background-color: #0071CD\">\n",
    "<center>\n",
    "<img src=\"img/logoub.jpeg\">\n",
    "<center>\n",
    "<p>\n",
    "<h1>Algorítmica Avanzada</h1>\n",
    "<h2>Problemas 1 - Grafos 1</h2>\n",
    "</center>\n",
    "</p>\n",
    "</div>"
   ]
  },
  {
   "cell_type": "markdown",
   "metadata": {},
   "source": [
    "<div class=\"alert alert-danger\">\n",
    "    <h3>RECORDATORIO IMPORTANTE!</h3>\n",
    "    <p>\n",
    "        Es <b>imperativo</b> respetar las cabeceras de las funciones y estructura del return que se indiquen en los enunciados.\n",
    "    </p>\n",
    "    <p>\n",
    "    La no adherencia al formato de las funciones conllevará una puntuación nula sobre ese ejercicio.\n",
    "    </p>\n"
   ]
  },
  {
   "cell_type": "markdown",
   "metadata": {},
   "source": [
    "<h2>NetworkX</h2>\n",
    "\n",
    "<p>\n",
    "    Para la realización de tanto problemas como prácticas sobre grafos, utilizaremos la librería NeworkX. Esta librería contiene la clase 'nx.Graph', que es muy similar a la clase Grafo que se os pide implementar en la práctica 0.\n",
    "</p>\n",
    "<p>\n",
    "    Utilizando NetworkX os aseguráis de que no arrastráis errores de vuestra clase Grafo a vuestro algoritmo. Asimismo, los algoritmos que desarroléeis estarán adaptados a la clase 'nx.Graph', que es la que utilizaremos para las correcciones.\n",
    "</p>"
   ]
  },
  {
   "cell_type": "markdown",
   "metadata": {},
   "source": [
    "## Atributos\n",
    "\n",
    "Un grafo está formado por dos elementos principales, vértices (Nodes) y aristas (Edges). \n",
    "\n",
    "Los elementos atómicos de un grafo son los vértices, representados gráficamente con puntos. En el siguiente ejemplo podemos observar cómo creamos un grafo con tres nodos con la función: `add_nodes_from`"
   ]
  },
  {
   "cell_type": "code",
   "execution_count": null,
   "metadata": {},
   "outputs": [],
   "source": [
    "%matplotlib inline\n",
    "import networkx as nx\n",
    "G = nx.Graph()\n",
    "G.add_nodes_from((1,2,3))\n",
    "nx.draw_circular(G, with_labels=True)"
   ]
  },
  {
   "cell_type": "markdown",
   "metadata": {},
   "source": [
    "El otro atributo principal de un <b>grafo</b> son las aristas (edges), estas son las conexiones entre todos nuestros nodos. En el siguiente ejemplo de código podemos ver como añadimos los vértices que van de 1 a 2 y de 1 a 3 sobre el grafo con 3 nodos del ejemplo anterior.  "
   ]
  },
  {
   "cell_type": "code",
   "execution_count": null,
   "metadata": {},
   "outputs": [],
   "source": [
    "G.add_edges_from(((1,2), (1,3)))\n",
    "nx.draw_circular(G, with_labels=True)"
   ]
  },
  {
   "cell_type": "markdown",
   "metadata": {},
   "source": [
    "## Tipos de grafos\n",
    "\n",
    "Hay diferentes tipos de grafos en función de sus características, en esta introducción destacaremos tres tipos:\n",
    "\n",
    "- Grafos dirigidos\n",
    "- Grafos inconexos\n",
    "- Grafos regulares"
   ]
  },
  {
   "cell_type": "code",
   "execution_count": null,
   "metadata": {},
   "outputs": [],
   "source": [
    "# Grafo dirigido:\n",
    "# - Las aristas tienen dirección\n",
    "DG = nx.DiGraph()\n",
    "DG.add_edges_from(((1,3), (3,4), (2,3)))\n",
    "nx.draw_circular(DG, with_labels=True)"
   ]
  },
  {
   "cell_type": "code",
   "execution_count": null,
   "metadata": {},
   "outputs": [],
   "source": [
    "# Grafo inconexo no dirigido\n",
    "# - Partiendo de un nodo cualquiera no se puede llegar a recorrer todo el grafo\n",
    "UG = nx.Graph()\n",
    "UG.add_edges_from(((1,2), (1,3), (5,6)))\n",
    "nx.draw_circular(UG, with_labels=True)"
   ]
  },
  {
   "cell_type": "code",
   "execution_count": null,
   "metadata": {},
   "outputs": [],
   "source": [
    "# Grafo regular no dirigido\n",
    "# - Todos los nodos tienen el mismo grado\n",
    "UG = nx.Graph()\n",
    "UG.add_edges_from(((1,2), (1,4), (2,1), (2,3), (4,3)))\n",
    "nx.draw_circular(UG, with_labels=True)"
   ]
  },
  {
   "cell_type": "markdown",
   "metadata": {},
   "source": [
    "## Propiedades\n",
    "\n",
    "- <b>Orden</b> de un grafo: El orden de un grafo es el número de vértices que contiene.\n",
    "- <b>Grado</b> de un vértice: Número de aristas que conectan con un vértice (en el caso de grafos dirigidos hablaríamos de grado de entrada y de salida)."
   ]
  },
  {
   "cell_type": "markdown",
   "metadata": {},
   "source": [
    "<div class=\"alert alert-danger\">\n",
    "<h1>Ejercicio</h1>\n",
    "<p><strong>\n",
    "Con la información de la que disponemos, tenéis que crear un gráfo de orden 5 en el que el grado de todos y cada uno de los vértices sea 4.\n",
    "</strong></p>\n",
    "</div>"
   ]
  },
  {
   "cell_type": "code",
   "execution_count": null,
   "metadata": {},
   "outputs": [],
   "source": [
    "# Ejercicio 1\n"
   ]
  },
  {
   "cell_type": "markdown",
   "metadata": {},
   "source": [
    "En el ejercicio anterior hemos dibujado lo que se llama un <b>grafo completo</b>. Este tipo de grafos se caracterizan porque todos los vértices están enlazados entre ellos."
   ]
  },
  {
   "cell_type": "markdown",
   "metadata": {
    "collapsed": true
   },
   "source": [
    "<div class=\"alert alert-warning\">\n",
    "<h1>Pregunta</h1>\n",
    "<p><strong>\n",
    "En un gráfo completo de orden 4, ¿cuántas aristas existen? ¿Y en un grafo completo de orden $n$?\n",
    "</strong></p>\n",
    "</div>"
   ]
  },
  {
   "cell_type": "markdown",
   "metadata": {},
   "source": []
  },
  {
   "cell_type": "markdown",
   "metadata": {},
   "source": [
    "# Algoritmos sobre grafos\n",
    "## Minimum Path"
   ]
  },
  {
   "cell_type": "markdown",
   "metadata": {},
   "source": [
    "\n",
    "<div class=\"alert alert-success\" style=\"width:90%; margin:0 auto;\">\n",
    "  <h2><p>0 - Breadth First Search</p></h2>\n",
    "  \n",
    "  <p>\n",
    "  En este primer apartado se propone la implementación del algoritmo <i>Breadth First Search</i> visto en clase. Mediante este algoritmo pretendemos encontrar el camíno mínimo entre dos puntos del grafo.\n",
    "  </p>\n",
    "  <p>\n",
    "  Se pide una implementación iterativa del algoritmo, en la que mediante una cola realizemos una exploración expansiva. Es importante controlar que se trata de un grafo genérico, y no de un arbol, por lo que un mismo nodo nos lo podemos encontrar en varios niveles. En otras palabras, el grafo podría tener ciclos, controlad que cada nodo se visite una sola vez.\n",
    "  </p>\n",
    "  \n",
    "  <p>\n",
    "  <a href=\"https://en.wikipedia.org/wiki/Breadth-first_search\">Aquí</a> podeis encontrar mas detalles sobre la implementación y características de este algoritmo.\n",
    "  </p>\n"
   ]
  },
  {
   "cell_type": "markdown",
   "metadata": {},
   "source": [
    "<div class=\"alert alert-danger\" style=\"width:80%; margin:0 auto; padding\">\n",
    "<center><p><h3> Código </h3></p> </center> \n",
    "\n",
    "<p>\n",
    "<h3>INPUT</h3>\n",
    "<ul>\n",
    "<li><b>G</b>: Este es el grafo que utilizaremos para buscar el camino.</li>\n",
    "<li><b>origen</b>: Este parámetro corresponde al índice de un nodo. En este caso deberá ser un entero (e.g. 231).</li>\n",
    "<li><b>destino</b>: El índice del nodo al que queremos llegar. Igual que el origen, deberá ser un entero.</li>\n",
    "</ul>\n",
    "<br>\n",
    "<h3>OUTPUT</h3>\n",
    "El output de una funcion es un diccionario que contiene los siguientes valores\n",
    "<ul>\n",
    "<li><b>'path'</b>: Una lista de nodos representados como números enteros correspondientes al camino encontrado del nodo origen al nodo destino, incluyendo ambos.</li>\n",
    "<li><b>'expanded'</b>: El número de nodos que se han explorado hasta encontrar el nodo destino. Es decir, cuantos nodos ha tenido que considerar BFS hasta encontrar el camino mínimo entre origen y destino.</li>\n",
    "<ul>\n",
    "\n",
    "</p>\n",
    "\n",
    "</div>"
   ]
  },
  {
   "cell_type": "code",
   "execution_count": null,
   "metadata": {},
   "outputs": [],
   "source": [
    "from queue import Queue\n",
    "\n",
    "def bfs(G, origen, destino): \n",
    "    path = []\n",
    "    expanded = 0\n",
    "    return {\n",
    "        'path' : path,\n",
    "        'expanded' : expanded\n",
    "    }"
   ]
  },
  {
   "cell_type": "code",
   "execution_count": null,
   "metadata": {},
   "outputs": [],
   "source": [
    "import networkx as nx\n",
    "# Prueba tu algoritmo\n",
    "G = nx.generators.barabasi_albert_graph(100, 2)\n",
    "bfs(G, 1, 95)"
   ]
  },
  {
   "cell_type": "markdown",
   "metadata": {},
   "source": [
    "<div class=\"alert alert-success\" style=\"width:90%; margin:0 auto;\">\n",
    "  <h2><p>1 - Depth-First Search</p></h2>\n",
    "  \n",
    "  <p>\n",
    "  El objetivo de <i>Depth First Search</i> (DFS) es el mismo que el de BFS, encontrar un camino entre dos puntos del grafo. Para este ejercicio se pide la versión iterativa de DFS.\n",
    "  </p>\n",
    "  \n",
    "  <p>\n",
    "  <a href=\"https://en.wikipedia.org/wiki/Depth-first_search\">Aquí</a> podeis encontrar mas detalles sobre la implementación y características de este algoritmo.\n",
    "  </p>\n"
   ]
  },
  {
   "cell_type": "markdown",
   "metadata": {},
   "source": [
    "<div class=\"alert alert-danger\" style=\"width:80%; margin:0 auto; padding\">\n",
    "<center><p><h3> Código </h3></p> </center> \n",
    "\n",
    "<p>\n",
    "<h3>INPUT</h3>\n",
    "<ul>\n",
    "    <li><b>G</b>: Grafo sobre el que buscar el camino.</li>\n",
    "<li><b>origen</b>: Este parámetro corresponde al índice de un nodo. En este caso deberá ser un entero <i>(e.g. 231)</i>.</li>\n",
    "<li><b>destino</b>: El índice del nodo al que queremos llegar.</li>\n",
    "</ul>\n",
    "<br>\n",
    "<h3>OUTPUT</h3>\n",
    "El output de una funcion es un diccionario que contiene los siguientes valores\n",
    "<ul>\n",
    "<li><b>'path'</b>: Una lista de nodos representados como números enteros correspondientes al camino encontrado del nodo origen al nodo destino, incluyendo ambos.</li>\n",
    "<li><b>'expanded'</b>: El número de nodos que se han explorado hasta encontrar el nodo destino. Es decir, cuantos nodos ha tenido que considerar DFS hasta encontrar el camino mínimo entre origen y destino.</li>\n",
    "<ul>\n",
    "\n",
    "</p>\n",
    "\n",
    "</div>"
   ]
  },
  {
   "cell_type": "code",
   "execution_count": 3,
   "metadata": {},
   "outputs": [],
   "source": [
    "def dfs(G, origen, destino):        \n",
    "    path = []\n",
    "    expanded = 0\n",
    "    return {\n",
    "        'path' : path,\n",
    "        'expanded' : expanded\n",
    "    }"
   ]
  },
  {
   "cell_type": "code",
   "execution_count": null,
   "metadata": {},
   "outputs": [],
   "source": [
    "G = nx.generators.barabasi_albert_graph(100, 2)\n",
    "dfs(G, 1, 95)"
   ]
  },
  {
   "cell_type": "markdown",
   "metadata": {},
   "source": [
    "<div class=\"alert alert-success\" style=\"width:90%; margin:0 auto;\">\n",
    "  <h2><p>2 - Componentes conexos</p></h2>\n",
    "  <p>\n",
    "    Para este ejercicio deberéis implementar una función que identifique los distintos componentes conexos de un grafo. Esto es, agrupar todos los nodos que estén conectados por un camino.\n",
    "  </p>"
   ]
  },
  {
   "cell_type": "markdown",
   "metadata": {},
   "source": [
    "<div class=\"alert alert-danger\" style=\"width:80%; margin:0 auto; padding\">\n",
    "    <h2>EJERCICIO ENTREGABLE!</h2>\n",
    "   <p>\n",
    "       Este ejercicio será evaluado. Tendréis que subir el notebook con éste ejercicio realizado al Campus.\n",
    "    </p>"
   ]
  },
  {
   "cell_type": "markdown",
   "metadata": {},
   "source": [
    "  <p>\n",
    "      Los componentes conexos de un grafo son los grupos de nodos que están directa o indirectamente conectados entre sí. Es decir, los grupos de nodos que permiten \"viajar\" entre ellos a través de los ejes del grafo. Si un grafo contiene más de 1 componente conexo, tenemos un grafo inconexo. Anteriormente hemos observado un ejemplo de grafo inconexo. Veamos algunos ejemplos más.\n",
    "  </p>\n",
    "  <p>\n",
    "    Para ello, os proporcionamos una función de Python en el archivo <i>utils.py</i> incluido junto con esta práctica. Dicha función se llama 'random_multiple_component_graph' y generará un grafo aleatorio con el número de componentes conexos especificados a través del input 'c' de la función. En la siguiente celda vemos como utilizar esta función y visualizar el grafo resultante. Os sugerimos probar distintos valores para el parámetro 'c' y observeis los grafos obtenidos hasta comprender qué es exactamente un componente conexo.\n",
    "  </p>"
   ]
  },
  {
   "cell_type": "code",
   "execution_count": null,
   "metadata": {},
   "outputs": [],
   "source": [
    "from utils import draw, random_multiple_component_graph\n",
    "G = random_multiple_component_graph(c=2)\n",
    "draw(G)"
   ]
  },
  {
   "cell_type": "markdown",
   "metadata": {},
   "source": [
    "<div class=\"alert alert-danger\" style=\"width:80%; margin:0 auto; padding\">\n",
    "<center><p><h3> Código </h3></p> </center> \n",
    "\n",
    "<p>\n",
    "<h3>INPUT</h3>\n",
    "<ul>\n",
    "    <li><b>G</b>: Objeto de tipo grafo sobre el cual buscaremos componentes conexos.</li>\n",
    "</ul>\n",
    "<br>\n",
    "<h3>OUTPUT</h3>\n",
    "<ul>\n",
    "<li><b>'componentes'</b>: Una lista de listas. Cada sub-lista representa un componente conexo y contendrá los índices de los nodos de uno de los componentes conexos.</li>\n",
    "<ul>\n",
    "\n",
    "</p>\n",
    "\n",
    "</div>"
   ]
  },
  {
   "cell_type": "code",
   "execution_count": null,
   "metadata": {},
   "outputs": [],
   "source": [
    "def cnx(G):\n",
    "    \"\"\"\n",
    "    YOUR CODE HERE\n",
    "    \"\"\"\n",
    "    componentes = [[]]\n",
    "    return componentes"
   ]
  },
  {
   "cell_type": "code",
   "execution_count": null,
   "metadata": {},
   "outputs": [],
   "source": [
    "\"\"\" TEST \"\"\"\n",
    "# Número de componentes conexos en el grafo generado\n",
    "c = 4\n",
    "# Generamos y visualizamos el grafo\n",
    "G = random_multiple_component_graph(c=c)\n",
    "draw(G)\n",
    "# Obtenemos los componentes conexos mediante el algoritmo que habéis implementado\n",
    "comp_cnxs = cnx(G)\n",
    "# Comprobamos que el número de componentes conexos es el correcto\n",
    "assert len(comp_cnxs) == c, 'Número de componentes conexos incorrecto'"
   ]
  },
  {
   "cell_type": "markdown",
   "metadata": {},
   "source": [
    "<h5>ADVERTENCIA</h5>\n",
    "<p>Obtener el número correcto de componentes conexos no implica que vuestro algoritmo funciona correctamente. Los nodos deben estar agrupados correctamente en sus componentes correspondientes.\n",
    "    </p>"
   ]
  }
 ],
 "metadata": {
  "kernelspec": {
   "display_name": "Python 3",
   "language": "python",
   "name": "python3"
  },
  "language_info": {
   "codemirror_mode": {
    "name": "ipython",
    "version": 3
   },
   "file_extension": ".py",
   "mimetype": "text/x-python",
   "name": "python",
   "nbconvert_exporter": "python",
   "pygments_lexer": "ipython3",
   "version": "3.6.7"
  }
 },
 "nbformat": 4,
 "nbformat_minor": 2
}
